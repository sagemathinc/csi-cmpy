{
 "cells": [
  {
   "cell_type": "code",
   "execution_count": 1,
   "metadata": {
    "collapsed": false
   },
   "outputs": [
    {
     "data": {
      "text/plain": [
       "'2.7.15 | packaged by conda-forge | (default, Jul  2 2019, 00:39:44) \\n[GCC 7.3.0]'"
      ]
     },
     "execution_count": 1,
     "metadata": {
     },
     "output_type": "execute_result"
    }
   ],
   "source": [
    "import sys\n",
    "sys.version"
   ]
  },
  {
   "cell_type": "code",
   "execution_count": 2,
   "metadata": {
    "collapsed": false
   },
   "outputs": [
    {
     "data": {
      "text/plain": [
       "<module 'cmpy' from '/srv/conda/envs/kernel/lib/python2.7/site-packages/cmpy/__init__.pyc'>"
      ]
     },
     "execution_count": 2,
     "metadata": {
     },
     "output_type": "execute_result"
    }
   ],
   "source": [
    "import cmpy\n",
    "cmpy"
   ]
  },
  {
   "cell_type": "code",
   "execution_count": 3,
   "metadata": {
    "collapsed": false
   },
   "outputs": [
    {
     "data": {
      "text/plain": [
       "{'atol': 1.000000000000001e-12,\n",
       " 'block_entropy_method': 'msp',\n",
       " 'include_forbidden': True,\n",
       " 'logs': True,\n",
       " 'probability_method': 'array',\n",
       " 'rtol': 1.000000000000001e-10,\n",
       " 'show': 'external',\n",
       " 'sparse': True,\n",
       " 'text.font': 'ascii',\n",
       " 'text.usetex': False,\n",
       " 'transducers.error': 0,\n",
       " 'use_logs': True}"
      ]
     },
     "execution_count": 3,
     "metadata": {
     },
     "output_type": "execute_result"
    }
   ],
   "source": [
    "cmpy.cmpyParams"
   ]
  },
  {
   "cell_type": "code",
   "execution_count": 4,
   "metadata": {
    "collapsed": false
   },
   "outputs": [
   ],
   "source": [
    "m = cmpy.machines.Even()"
   ]
  },
  {
   "cell_type": "code",
   "execution_count": 5,
   "metadata": {
    "collapsed": false
   },
   "outputs": [
    {
     "data": {
      "text/plain": [
       "'1.2.3'"
      ]
     },
     "execution_count": 5,
     "metadata": {
     },
     "output_type": "execute_result"
    }
   ],
   "source": [
    "import dit\n",
    "dit.__version__"
   ]
  },
  {
   "cell_type": "code",
   "execution_count": 6,
   "metadata": {
    "collapsed": false
   },
   "outputs": [
    {
     "data": {
      "text/plain": [
       "'1.16.5'"
      ]
     },
     "execution_count": 6,
     "metadata": {
     },
     "output_type": "execute_result"
    }
   ],
   "source": [
    "import numpy as np\n",
    "np.__version__"
   ]
  },
  {
   "cell_type": "code",
   "execution_count": 7,
   "metadata": {
    "collapsed": false
   },
   "outputs": [
    {
     "data": {
      "text/plain": [
       "'1.5'"
      ]
     },
     "execution_count": 7,
     "metadata": {
     },
     "output_type": "execute_result"
    }
   ],
   "source": [
    "import pygraphviz\n",
    "pygraphviz.__version__"
   ]
  },
  {
   "cell_type": "code",
   "execution_count": 8,
   "metadata": {
    "collapsed": false
   },
   "outputs": [
    {
     "data": {
      "text/plain": [
       "'1.7.4'"
      ]
     },
     "execution_count": 8,
     "metadata": {
     },
     "output_type": "execute_result"
    }
   ],
   "source": [
    "import openmdao\n",
    "openmdao.__version__"
   ]
  },
  {
   "cell_type": "markdown",
   "metadata": {
    "collapsed": false
   },
   "source": [
    "openmdao example from https://openmdao.readthedocs.io/en/1.7.3/usr-guide/tutorials/paraboloid-tutorial.html"
   ]
  },
  {
   "cell_type": "code",
   "execution_count": 9,
   "metadata": {
    "collapsed": false
   },
   "outputs": [
    {
     "name": "stdout",
     "output_type": "stream",
     "text": [
      "##############################################\n",
      "Setup: Checking root problem for potential issues...\n",
      "\n",
      "No recorders have been specified, so no data will be saved.\n",
      "\n",
      "Setup: Check of root problem complete.\n",
      "##############################################\n",
      "\n",
      "-15.0\n"
     ]
    }
   ],
   "source": [
    "from __future__ import print_function\n",
    "\n",
    "from openmdao.api import IndepVarComp, Component, Problem, Group\n",
    "\n",
    "class Paraboloid(Component):\n",
    "    \"\"\" Evaluates the equation f(x,y) = (x-3)^2 + xy + (y+4)^2 - 3 \"\"\"\n",
    "\n",
    "    def __init__(self):\n",
    "        super(Paraboloid, self).__init__()\n",
    "\n",
    "        self.add_param('x', val=0.0)\n",
    "        self.add_param('y', val=0.0)\n",
    "\n",
    "        self.add_output('f_xy', shape=1)\n",
    "\n",
    "    def solve_nonlinear(self, params, unknowns, resids):\n",
    "        \"\"\"f(x,y) = (x-3)^2 + xy + (y+4)^2 - 3\n",
    "        \"\"\"\n",
    "\n",
    "        x = params['x']\n",
    "        y = params['y']\n",
    "\n",
    "        unknowns['f_xy'] = (x-3.0)**2 + x*y + (y+4.0)**2 - 3.0\n",
    "\n",
    "    def linearize(self, params, unknowns, resids):\n",
    "        \"\"\" Jacobian for our paraboloid.\"\"\"\n",
    "\n",
    "        x = params['x']\n",
    "        y = params['y']\n",
    "        J = {}\n",
    "\n",
    "        J['f_xy', 'x'] = 2.0*x - 6.0 + y\n",
    "        J['f_xy', 'y'] = 2.0*y + 8.0 + x\n",
    "        return J\n",
    "\n",
    "\n",
    "top = Problem()\n",
    "\n",
    "root = top.root = Group()\n",
    "\n",
    "root.add('p1', IndepVarComp('x', 3.0))\n",
    "root.add('p2', IndepVarComp('y', -4.0))\n",
    "root.add('p', Paraboloid())\n",
    "\n",
    "root.connect('p1.x', 'p.x')\n",
    "root.connect('p2.y', 'p.y')\n",
    "\n",
    "top.setup()\n",
    "top.run()\n",
    "\n",
    "print(top['p.f_xy'])"
   ]
  },
  {
   "cell_type": "code",
   "execution_count": 10,
   "metadata": {
    "collapsed": false
   },
   "outputs": [
    {
     "name": "stdout",
     "output_type": "stream",
     "text": [
      "Partial Derivatives Check\n",
      "\n",
      "----------------\n",
      "Component: 'p'\n",
      "----------------\n",
      "  p: 'f_xy' wrt 'x'\n",
      "\n",
      "    Forward Magnitude : 4.000000e+00\n",
      "    Reverse Magnitude : 4.000000e+00\n",
      "         Fd Magnitude : 3.999999e+00 (fd:forward)\n",
      "\n",
      "    Absolute Error (Jfor - Jfd) : 9.995298e-07\n",
      "    Absolute Error (Jrev - Jfd) : 9.995298e-07\n",
      "    Absolute Error (Jfor - Jrev): 0.000000e+00\n",
      "\n",
      "    Relative Error (Jfor - Jfd) : 2.498825e-07\n",
      "    Relative Error (Jrev - Jfd) : 2.498825e-07\n",
      "    Relative Error (Jfor - Jrev): 0.000000e+00\n",
      "\n",
      "    Raw Forward Derivative (Jfor)\n",
      "\n",
      "[[-4.]]\n",
      "\n",
      "    Raw Reverse Derivative (Jrev)\n",
      "\n",
      "[[-4.]]\n",
      "\n",
      "    Raw FD Derivative (Jfd)\n",
      "\n",
      "[[-3.999999]]\n",
      "\n",
      " - - - - - - - - - - - - - - - - - - - - - - - - - - - - - -\n",
      "  p: 'f_xy' wrt 'y'\n",
      "\n",
      "    Forward Magnitude : 3.000000e+00\n",
      "    Reverse Magnitude : 3.000000e+00\n",
      "         Fd Magnitude : 3.000001e+00 (fd:forward)\n",
      "\n",
      "    Absolute Error (Jfor - Jfd) : 9.996201e-07\n",
      "    Absolute Error (Jrev - Jfd) : 9.996201e-07\n",
      "    Absolute Error (Jfor - Jrev): 0.000000e+00\n",
      "\n",
      "    Relative Error (Jfor - Jfd) : 3.332066e-07\n",
      "    Relative Error (Jrev - Jfd) : 3.332066e-07\n",
      "    Relative Error (Jfor - Jrev): 0.000000e+00\n",
      "\n",
      "    Raw Forward Derivative (Jfor)\n",
      "\n",
      "[[3.]]\n",
      "\n",
      "    Raw Reverse Derivative (Jrev)\n",
      "\n",
      "[[3.]]\n",
      "\n",
      "    Raw FD Derivative (Jfd)\n",
      "\n",
      "[[3.000001]]\n",
      "\n"
     ]
    },
    {
     "data": {
      "text/plain": [
       "{'p': {('f_xy', 'x'): {'J_fd': array([[-3.999999]]),\n",
       "   'J_fwd': array([[-4.]]),\n",
       "   'J_rev': array([[-4.]]),\n",
       "   'abs error': (9.99529788714426e-07, 9.99529788714426e-07, 0.0),\n",
       "   'magnitude': (4.0, 4.0, 3.9999990004702113),\n",
       "   'rel error': (2.498825096198595e-07, 2.498825096198595e-07, 0.0)},\n",
       "  ('f_xy', 'y'): {'J_fd': array([[3.000001]]),\n",
       "   'J_fwd': array([[3.]]),\n",
       "   'J_rev': array([[3.]]),\n",
       "   'abs error': (9.99620056063577e-07, 9.99620056063577e-07, 0.0),\n",
       "   'magnitude': (3.0, 3.0, 3.000000999620056),\n",
       "   'rel error': (3.332065743278675e-07, 3.332065743278675e-07, 0.0)}}}"
      ]
     },
     "execution_count": 10,
     "metadata": {
     },
     "output_type": "execute_result"
    }
   ],
   "source": [
    "top.check_partial_derivatives()"
   ]
  },
  {
   "cell_type": "code",
   "execution_count": 11,
   "metadata": {
    "collapsed": false
   },
   "outputs": [
    {
     "data": {
      "text/plain": [
       "[<matplotlib.lines.Line2D at 0x7ff136559fd0>]"
      ]
     },
     "execution_count": 11,
     "metadata": {
     },
     "output_type": "execute_result"
    },
    {
     "data": {
      "image/png": "[encoded data removed]",
      "text/plain": [
       "<Figure size 432x288 with 1 Axes>"
      ]
     },
     "execution_count": 11,
     "metadata": {
     },
     "output_type": "execute_result"
    }
   ],
   "source": [
    "%matplotlib inline\n",
    "import matplotlib.pyplot as plt\n",
    "plt.plot(np.random.randn(100))"
   ]
  },
  {
   "cell_type": "code",
   "execution_count": 0,
   "metadata": {
    "collapsed": false
   },
   "outputs": [
   ],
   "source": [
   ]
  }
 ],
 "metadata": {
  "kernelspec": {
   "display_name": "Python 2",
   "language": "python",
   "name": "python2"
  },
  "language_info": {
   "codemirror_mode": {
    "name": "ipython",
    "version": 2
   },
   "file_extension": ".py",
   "mimetype": "text/x-python",
   "name": "python",
   "nbconvert_exporter": "python",
   "pygments_lexer": "ipython2",
   "version": "2.7.15"
  }
 },
 "nbformat": 4,
 "nbformat_minor": 0
}